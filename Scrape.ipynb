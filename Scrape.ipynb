{
 "cells": [
  {
   "cell_type": "code",
   "execution_count": 38,
   "metadata": {},
   "outputs": [],
   "source": [
    "from bs4 import BeautifulSoup\n",
    "from splinter import Browser\n",
    "import pandas as pd\n",
    "import requests\n",
    "import pymongo"
   ]
  },
  {
   "cell_type": "code",
   "execution_count": 39,
   "metadata": {},
   "outputs": [],
   "source": [
    "executable_path = {'executable_path': r'/Users/crobinson1205/Desktop/chromedriver'}\n",
    "browser = Browser('chrome', **executable_path, headless=False)\n",
    "\n",
    "mongo_export = {}"
   ]
  },
  {
   "cell_type": "code",
   "execution_count": 40,
   "metadata": {},
   "outputs": [],
   "source": [
    "#view website\n",
    "url = 'https://mars.nasa.gov/news/'\n",
    "browser.visit(url)\n",
    "website  = browser.html\n",
    "\n"
   ]
  },
  {
   "cell_type": "code",
   "execution_count": 41,
   "metadata": {},
   "outputs": [
    {
     "data": {
      "text/plain": [
       "{'title': \"Mars InSight Lander to Push on Top of the 'Mole'\",\n",
       " 'content': 'Engineers have a plan for pushing down on the heat probe, which has been stuck at the Martian surface for a year.'}"
      ]
     },
     "execution_count": 41,
     "metadata": {},
     "output_type": "execute_result"
    }
   ],
   "source": [
    "#get title and content from website\n",
    "article_soup = BeautifulSoup(website, 'html.parser')\n",
    "\n",
    "\n",
    "content = article_soup.find('div',class_ = 'react_grid_list').find('div').find('ul').find('li').find('div').find(class_ = 'rollover_description_inner').text\n",
    "\n",
    "\n",
    "title = article_soup.find('div',class_ = 'react_grid_list').find('div').find('ul').find('li').find('div').find('a').find(class_ = 'bottom_gradient').text\n",
    "\n",
    "\n",
    "\n",
    "\n",
    "article_soup_dict = {}\n",
    "article_soup_dict[\"title\"] = title\n",
    "article_soup_dict[\"content\"] = content\n",
    "article_soup_dict"
   ]
  },
  {
   "cell_type": "markdown",
   "metadata": {},
   "source": [
    "#### "
   ]
  },
  {
   "cell_type": "code",
   "execution_count": 42,
   "metadata": {},
   "outputs": [],
   "source": [
    "#get image from jpl space\n",
    "url = 'https://www.jpl.nasa.gov/spaceimages/?search=&category=Mars'\n",
    "browser.visit(url)\n",
    "website = browser.html"
   ]
  },
  {
   "cell_type": "code",
   "execution_count": 43,
   "metadata": {},
   "outputs": [
    {
     "data": {
      "text/plain": [
       "{'link': 'https://www.jpl.nasa.gov/spaceimages/images/mediumsize/PIA01322_ip.jpg'}"
      ]
     },
     "execution_count": 43,
     "metadata": {},
     "output_type": "execute_result"
    }
   ],
   "source": [
    "image_soup = BeautifulSoup(website, 'html.parser')\n",
    "main_section = image_soup.find(class_=\"centered_text clearfix main_feature primary_media_feature single\")\n",
    "image_con = main_section.find(class_ =\"default floating_text_area ms-layer\")\n",
    "image_str = image_con.find('a').get('data-fancybox-href')\n",
    "image_link = f'https://www.jpl.nasa.gov{image_str}'\n",
    "\n",
    "image_soup_dict = {}\n",
    "image_soup_dict[\"link\"] = image_link\n",
    "image_soup_dict"
   ]
  },
  {
   "cell_type": "code",
   "execution_count": 44,
   "metadata": {},
   "outputs": [],
   "source": [
    "#mars twitter weather\n",
    "url = 'https://twitter.com/marswxreport?lang=en/tweets'\n",
    "data = requests.get(url) \n",
    "twitter_soup = BeautifulSoup(data.text, 'html.parser')"
   ]
  },
  {
   "cell_type": "code",
   "execution_count": 45,
   "metadata": {},
   "outputs": [
    {
     "data": {
      "text/plain": [
       "{'report': 'InSight sol 441 (2020-02-22) low -95.1ºC (-139.1ºF) high -13.5ºC (7.7ºF)\\nwinds from the SSE at 6.2 m/s (13.8 mph) gusting to 21.0 m/s (47.0 mph)\\npressure at 6.30 hPapic.twitter.com/ztf0TqK14M'}"
      ]
     },
     "execution_count": 45,
     "metadata": {},
     "output_type": "execute_result"
    }
   ],
   "source": [
    "mars_weather_tweet = twitter_soup.find_all('div', attrs={\"class\": \"tweet\"})[0]\n",
    "mars_weather_tweet.find('p').text\n",
    "\n",
    "found = False\n",
    "i = 0\n",
    "while found == False:\n",
    "    mars_weather_tweet = twitter_soup.find_all('div', attrs={\"class\": \"tweet\"})[i]\n",
    "    mars_weather_text = mars_weather_tweet.find('p').text\n",
    "    if (mars_weather_text.find('InSight sol') != -1) and (mars_weather_text.find('ºC') != -1) and (mars_weather_text.find('ºF') != -1) and (mars_weather_text.find('m/s') != -1):\n",
    "        weather_report = mars_weather_tweet.find('p').text\n",
    "        found = True\n",
    "    \n",
    "    i+=1\n",
    "    \n",
    "weather_soup_dict = {}\n",
    "weather_soup_dict[\"report\"] = weather_report\n",
    "weather_soup_dict"
   ]
  },
  {
   "cell_type": "code",
   "execution_count": 46,
   "metadata": {},
   "outputs": [
    {
     "data": {
      "text/plain": [
       "{'facts': '<table border=\"1\" class=\"dataframe\">\\n  <thead>\\n    <tr style=\"text-align: right;\">\\n      <th></th>\\n      <th>Value</th>\\n    </tr>\\n    <tr>\\n      <th>Description</th>\\n      <th></th>\\n    </tr>\\n  </thead>\\n  <tbody>\\n    <tr>\\n      <th>Equatorial Diameter:</th>\\n      <td>6,792 km</td>\\n    </tr>\\n    <tr>\\n      <th>Polar Diameter:</th>\\n      <td>6,752 km</td>\\n    </tr>\\n    <tr>\\n      <th>Mass:</th>\\n      <td>6.39 × 10^23 kg (0.11 Earths)</td>\\n    </tr>\\n    <tr>\\n      <th>Moons:</th>\\n      <td>2 (Phobos &amp; Deimos)</td>\\n    </tr>\\n    <tr>\\n      <th>Orbit Distance:</th>\\n      <td>227,943,824 km (1.38 AU)</td>\\n    </tr>\\n    <tr>\\n      <th>Orbit Period:</th>\\n      <td>687 days (1.9 years)</td>\\n    </tr>\\n    <tr>\\n      <th>Surface Temperature:</th>\\n      <td>-87 to -5 °C</td>\\n    </tr>\\n    <tr>\\n      <th>First Record:</th>\\n      <td>2nd millennium BC</td>\\n    </tr>\\n    <tr>\\n      <th>Recorded By:</th>\\n      <td>Egyptian astronomers</td>\\n    </tr>\\n  </tbody>\\n</table>'}"
      ]
     },
     "execution_count": 46,
     "metadata": {},
     "output_type": "execute_result"
    }
   ],
   "source": [
    "url = 'https://space-facts.com/mars/'\n",
    "browser.visit(url)\n",
    "website = browser.html\n",
    "\n",
    "fact_soup = BeautifulSoup(website, 'html.parser')\n",
    "mars_facts = fact_soup.find('table',id=\"tablepress-p-mars\")\n",
    "\n",
    "mars_facts_rows = mars_facts.find_all('tr')\n",
    "mars_table = {}\n",
    "\n",
    "i = 0\n",
    "for i in range(len(mars_facts_rows)):\n",
    "    mars_elements = []\n",
    "    key = mars_facts_rows[i].find('td',class_ = 'column-1').text\n",
    "    value = mars_facts_rows[i].find('td',class_ = 'column-2').text\n",
    "    mars_table[key]=[value]\n",
    "\n",
    "mars_df = pd.DataFrame(mars_table)\n",
    "mars_df = mars_df.transpose()\n",
    "\n",
    "mars_df = mars_df.rename_axis('Description')\n",
    "mars_df = mars_df.rename(columns = {0:'Value'})\n",
    "\n",
    "# mars_df\n",
    "mars_df.to_html()\n",
    "\n",
    "fact_soup_dict = {}\n",
    "fact_soup_dict[\"facts\"] = mars_df.to_html()\n",
    "fact_soup_dict"
   ]
  },
  {
   "cell_type": "code",
   "execution_count": 47,
   "metadata": {},
   "outputs": [
    {
     "data": {
      "text/plain": [
       "<a class=\"itemLink product-item\" href=\"/search/map/Mars/Viking/cerberus_enhanced\"><img alt=\"Cerberus Hemisphere Enhanced thumbnail\" class=\"thumb\" src=\"/cache/images/dfaf3849e74bf973b59eb50dab52b583_cerberus_enhanced.tif_thumb.png\"/></a>"
      ]
     },
     "execution_count": 47,
     "metadata": {},
     "output_type": "execute_result"
    }
   ],
   "source": [
    "#mars hemispheres pictures\n",
    "url = 'https://astrogeology.usgs.gov/search/results?q=hemisphere+enhanced&k1=target&v1=Mars'\n",
    "\n",
    "browser.visit(url)\n",
    "\n",
    "website = browser.html\n",
    "\n",
    "hemisphere_soup = BeautifulSoup(website, 'html.parser')\n",
    "hemisphere_soup.select('.itemLink.product-item')[0]"
   ]
  },
  {
   "cell_type": "code",
   "execution_count": 48,
   "metadata": {},
   "outputs": [
    {
     "data": {
      "text/plain": [
       "[[{'url': 'http://astropedia.astrogeology.usgs.gov/download/Mars/Viking/cerberus_enhanced.tif/full.jpg'},\n",
       "  {'url': 'http://astropedia.astrogeology.usgs.gov/download/Mars/Viking/schiaparelli_enhanced.tif/full.jpg'},\n",
       "  {'url': 'http://astropedia.astrogeology.usgs.gov/download/Mars/Viking/syrtis_major_enhanced.tif/full.jpg'},\n",
       "  {'url': 'http://astropedia.astrogeology.usgs.gov/download/Mars/Viking/valles_marineris_enhanced.tif/full.jpg'}]]"
      ]
     },
     "execution_count": 48,
     "metadata": {},
     "output_type": "execute_result"
    }
   ],
   "source": [
    "all_mars_pics = []\n",
    "\n",
    "j = 0\n",
    "\n",
    "i = 0\n",
    "\n",
    "while i < len(hemisphere_soup.select('.itemLink.product-item h3')):\n",
    "    \n",
    "    hemisphere_soup = BeautifulSoup(website, 'html.parser')\n",
    "    \n",
    "    pics_link = hemisphere_soup.select('.itemLink.product-item')[j].get('href')\n",
    "    \n",
    "    destination = f'https://astrogeology.usgs.gov{pics_link}'\n",
    "    \n",
    "    planet_pics = {}\n",
    "    \n",
    "    browser.visit(destination)\n",
    "    \n",
    "    destinaton_site = browser.html\n",
    "    \n",
    "    destination_soup = BeautifulSoup(destinaton_site,'html.parser')\n",
    "    \n",
    "    final_pic = browser.links.find_by_text('Sample')\n",
    "    \n",
    "    planet_pics['url'] = final_pic['href']\n",
    "\n",
    "    all_mars_pics.append(planet_pics)\n",
    "    \n",
    "    j += 2\n",
    "    \n",
    "    i += 1\n",
    "\n",
    "all_mars_pics\n",
    "\n",
    "hemisphere_soup_list = []\n",
    "hemisphere_soup_list.append(all_mars_pics)\n",
    "hemisphere_soup_list\n"
   ]
  },
  {
   "cell_type": "code",
   "execution_count": 49,
   "metadata": {},
   "outputs": [
    {
     "data": {
      "text/plain": [
       "{'article_soup': {'title': \"Mars InSight Lander to Push on Top of the 'Mole'\",\n",
       "  'content': 'Engineers have a plan for pushing down on the heat probe, which has been stuck at the Martian surface for a year.'},\n",
       " 'image_soup': {'link': 'https://www.jpl.nasa.gov/spaceimages/images/mediumsize/PIA01322_ip.jpg'},\n",
       " 'fact_soup': {'facts': '<table border=\"1\" class=\"dataframe\">\\n  <thead>\\n    <tr style=\"text-align: right;\">\\n      <th></th>\\n      <th>Value</th>\\n    </tr>\\n    <tr>\\n      <th>Description</th>\\n      <th></th>\\n    </tr>\\n  </thead>\\n  <tbody>\\n    <tr>\\n      <th>Equatorial Diameter:</th>\\n      <td>6,792 km</td>\\n    </tr>\\n    <tr>\\n      <th>Polar Diameter:</th>\\n      <td>6,752 km</td>\\n    </tr>\\n    <tr>\\n      <th>Mass:</th>\\n      <td>6.39 × 10^23 kg (0.11 Earths)</td>\\n    </tr>\\n    <tr>\\n      <th>Moons:</th>\\n      <td>2 (Phobos &amp; Deimos)</td>\\n    </tr>\\n    <tr>\\n      <th>Orbit Distance:</th>\\n      <td>227,943,824 km (1.38 AU)</td>\\n    </tr>\\n    <tr>\\n      <th>Orbit Period:</th>\\n      <td>687 days (1.9 years)</td>\\n    </tr>\\n    <tr>\\n      <th>Surface Temperature:</th>\\n      <td>-87 to -5 °C</td>\\n    </tr>\\n    <tr>\\n      <th>First Record:</th>\\n      <td>2nd millennium BC</td>\\n    </tr>\\n    <tr>\\n      <th>Recorded By:</th>\\n      <td>Egyptian astronomers</td>\\n    </tr>\\n  </tbody>\\n</table>'},\n",
       " 'hemisphere_soup': [[{'url': 'http://astropedia.astrogeology.usgs.gov/download/Mars/Viking/cerberus_enhanced.tif/full.jpg'},\n",
       "   {'url': 'http://astropedia.astrogeology.usgs.gov/download/Mars/Viking/schiaparelli_enhanced.tif/full.jpg'},\n",
       "   {'url': 'http://astropedia.astrogeology.usgs.gov/download/Mars/Viking/syrtis_major_enhanced.tif/full.jpg'},\n",
       "   {'url': 'http://astropedia.astrogeology.usgs.gov/download/Mars/Viking/valles_marineris_enhanced.tif/full.jpg'}]],\n",
       " 'weather_soup': {'report': 'InSight sol 441 (2020-02-22) low -95.1ºC (-139.1ºF) high -13.5ºC (7.7ºF)\\nwinds from the SSE at 6.2 m/s (13.8 mph) gusting to 21.0 m/s (47.0 mph)\\npressure at 6.30 hPapic.twitter.com/ztf0TqK14M'}}"
      ]
     },
     "execution_count": 49,
     "metadata": {},
     "output_type": "execute_result"
    }
   ],
   "source": [
    "mongo_export = {}\n",
    "mongo_export['article_soup'] = article_soup_dict\n",
    "mongo_export['image_soup'] = image_soup_dict\n",
    "mongo_export['fact_soup'] = fact_soup_dict\n",
    "mongo_export['hemisphere_soup'] = hemisphere_soup_list\n",
    "mongo_export['weather_soup'] = weather_soup_dict\n",
    "mongo_export\n"
   ]
  },
  {
   "cell_type": "code",
   "execution_count": 50,
   "metadata": {},
   "outputs": [],
   "source": [
    "browser.quit()"
   ]
  },
  {
   "cell_type": "code",
   "execution_count": 51,
   "metadata": {},
   "outputs": [],
   "source": [
    "#pymongo\n",
    "conn = 'mongodb://localhost:27017'\n",
    "client = pymongo.MongoClient(conn)"
   ]
  },
  {
   "cell_type": "code",
   "execution_count": 52,
   "metadata": {},
   "outputs": [
    {
     "name": "stderr",
     "output_type": "stream",
     "text": [
      "/Users/crobinson1205/anaconda3/lib/python3.7/site-packages/ipykernel_launcher.py:5: DeprecationWarning: update is deprecated. Use replace_one, update_one or update_many instead.\n",
      "  \"\"\"\n"
     ]
    },
    {
     "data": {
      "text/plain": [
       "{'n': 1, 'nModified': 1, 'ok': 1.0, 'updatedExisting': True}"
      ]
     },
     "execution_count": 52,
     "metadata": {},
     "output_type": "execute_result"
    }
   ],
   "source": [
    "db = client.marsDB\n",
    "\n",
    "mars = db.mars_info\n",
    "\n",
    "mars.update({},mongo_export, upsert = True)\n"
   ]
  },
  {
   "cell_type": "code",
   "execution_count": null,
   "metadata": {},
   "outputs": [],
   "source": []
  },
  {
   "cell_type": "code",
   "execution_count": null,
   "metadata": {},
   "outputs": [],
   "source": []
  }
 ],
 "metadata": {
  "kernelspec": {
   "display_name": "Python 3",
   "language": "python",
   "name": "python3"
  },
  "language_info": {
   "codemirror_mode": {
    "name": "ipython",
    "version": 3
   },
   "file_extension": ".py",
   "mimetype": "text/x-python",
   "name": "python",
   "nbconvert_exporter": "python",
   "pygments_lexer": "ipython3",
   "version": "3.7.1"
  }
 },
 "nbformat": 4,
 "nbformat_minor": 2
}
